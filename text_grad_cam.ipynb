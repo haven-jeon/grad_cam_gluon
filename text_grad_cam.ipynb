{
 "cells": [
  {
   "cell_type": "markdown",
   "metadata": {},
   "source": [
    "### Text Grad CAM using Gluon\n",
    "\n",
    "The interpretation of the model is more important than the thought from the practical point of view. First, it can be used to confirm that the model is made for common sense. If a model is built on common sense, there is a good chance that it will maintain its stability in operating the model for a long period of time. In addition, there are many cases in which the description of the model score is required in the business, which plays a big role in the understanding and trust of the business. First of all, when the model can be interpreted, there are many cases where new information that was not previously known is known, so the model is used for modeling the reality rather than the purpose of prediction.\n",
    "\n",
    "The Deep Learning model has been recognized as a representative black box model. However, in view of the author's recent experience, much of the preconceived notion that the deep learning model is a black box model has disappeared. In this article, we try to explain the possibility based on the movie review classification model.\n",
    "\n",
    "The data used is [Naver sentiment movie corpus](https://github.com/e9t/nsmc), which uses the training set and test set provided in the repository as it is, and a model that predicts the affirmation and negation of the review based on the data provided labels (1: positive, 0: negative) Will be built as a deep learning model."
   ]
  },
  {
   "cell_type": "markdown",
   "metadata": {},
   "source": [
    "![Grad CAM image from paper](grad_cam.png)"
   ]
  },
  {
   "cell_type": "markdown",
   "metadata": {},
   "source": [
    "Although the [Grad CAM paper](https://arxiv.org/abs/1610.02391) based on this article describes images based on the recent trends, Convolution-based techniques are also used for the problems of the text modeling area.  The Grad CAM scheme is a method of assigning a score to each entry using the backpropagation-based filter weights and convolution output values that cause the model to determine that the review is positive (or negative). For example, if the convolutional output provides a variety of materials that determine something, then the filter weighting is a class-specific, highlighting of the material provided by the convolution. This type of convolution visualization actually uses the gradient ascent technique, but it is a bit easier to understand with the idea of what to maximize. Indeed, in a deep learning process, weighted delta updates of \"gradient x -1 x learnig_rate\" are done to reduce the loss. Conversely, if we add more delta to the area to be visualized, what we want to see is highlighted. In sum.., it is the core of the Grad CAM series to try to interpret the model by reversing the learning process. Here we try to analyze the individual filters of the 1D convolution selected in the model and weight the results from the filter to see how individual word entries are used to the class to some extent. This allows you to verify that the model is modeled commonsensitively, and can even help you debug the model."
   ]
  },
  {
   "cell_type": "code",
   "execution_count": 1,
   "metadata": {
    "ExecuteTime": {
     "end_time": "2018-01-06T04:16:53.086853Z",
     "start_time": "2018-01-06T04:16:50.865101Z"
    }
   },
   "outputs": [],
   "source": [
    "import pandas as pd\n",
    "import numpy as np\n",
    "from konlpy.tag import Mecab\n",
    "from collections import Counter\n",
    "import operator\n",
    "import matplotlib.pyplot as plt\n",
    "import numpy as np\n",
    "import mxnet as mx\n",
    "from mxnet import gluon, autograd\n",
    "from mxnet.gluon import nn, rnn\n",
    "\n",
    "%matplotlib inline\n",
    "\n",
    "mecab = Mecab()\n"
   ]
  },
  {
   "cell_type": "markdown",
   "metadata": {
    "ExecuteTime": {
     "end_time": "2017-12-13T00:39:13.876364Z",
     "start_time": "2017-12-13T00:39:13.874105Z"
    }
   },
   "source": [
    "#### Preprocessing "
   ]
  },
  {
   "cell_type": "code",
   "execution_count": 2,
   "metadata": {
    "ExecuteTime": {
     "end_time": "2017-12-17T13:08:39.512365Z",
     "start_time": "2017-12-17T13:08:30.451864Z"
    }
   },
   "outputs": [
    {
     "data": {
      "text/plain": [
       "((150000, 19), (150000,))"
      ]
     },
     "execution_count": 2,
     "metadata": {},
     "output_type": "execute_result"
    }
   ],
   "source": [
    "tbl = pd.read_csv(\"ratings_train.txt\",sep='\\t')\n",
    "\n",
    "keywords = [mecab.morphs(str(i).strip()) for i in tbl['document']]\n",
    "\n",
    "np.median([len(k) for k in keywords]), len(keywords), tbl.shape\n",
    "\n",
    "keyword_cnt = Counter([i for item in keywords for i in item])\n",
    "#using top  5,000 keywords. \n",
    "keyword_clip = sorted(keyword_cnt.items(), key=operator.itemgetter(1))[-5000:]\n",
    "keyword_clip_dict = dict(keyword_clip)\n",
    "keyword_dict = dict(zip(keyword_clip_dict.keys(), range(len(keyword_clip_dict))))\n",
    "\n",
    "#for paddning and unknown keywords  \n",
    "keyword_dict['_PAD_'] = len(keyword_dict)\n",
    "keyword_dict['_UNK_'] = len(keyword_dict) \n",
    "\n",
    "#Create dictionary to backtrack keywords\n",
    "keyword_rev_dict = dict([(v,k) for k, v in keyword_dict.items()])\n",
    "\n",
    "#decide max sequence length\n",
    "max_seq =np.median([len(k) for k in keywords]) + 5\n",
    "\n",
    "\n",
    "def pad_sequences(sequences, maxlen=None, dtype='int32',\n",
    "                  padding='pre', truncating='pre', value=0.):\n",
    "    \"\"\"\n",
    "    from keras\n",
    "    \"\"\"\n",
    "    if not hasattr(sequences, '__len__'):\n",
    "        raise ValueError('`sequences` must be iterable.')\n",
    "    lengths = []\n",
    "    for x in sequences:\n",
    "        if not hasattr(x, '__len__'):\n",
    "            raise ValueError('`sequences` must be a list of iterables. '\n",
    "                             'Found non-iterable: ' + str(x))\n",
    "        lengths.append(len(x))\n",
    "\n",
    "    num_samples = len(sequences)\n",
    "    if maxlen is None:\n",
    "        maxlen = np.max(lengths)\n",
    "    sample_shape = tuple()\n",
    "    for s in sequences:\n",
    "        if len(s) > 0:\n",
    "            sample_shape = np.asarray(s).shape[1:]\n",
    "            break\n",
    "\n",
    "    x = (np.ones((num_samples, maxlen) + sample_shape) * value).astype(dtype)\n",
    "    for idx, s in enumerate(sequences):\n",
    "        if not len(s):\n",
    "            continue  # empty list/array was found\n",
    "        if truncating == 'pre':\n",
    "            trunc = s[-maxlen:]\n",
    "        elif truncating == 'post':\n",
    "            trunc = s[:maxlen]\n",
    "        else:\n",
    "            raise ValueError('Truncating type \"%s\" not understood' % truncating)\n",
    "\n",
    "        # check `trunc` has expected shape\n",
    "        trunc = np.asarray(trunc, dtype=dtype)\n",
    "        if trunc.shape[1:] != sample_shape:\n",
    "            raise ValueError('Shape of sample %s of sequence at position %s is different from expected shape %s' %\n",
    "                             (trunc.shape[1:], idx, sample_shape))\n",
    "\n",
    "        if padding == 'post':\n",
    "            x[idx, :len(trunc)] = trunc\n",
    "        elif padding == 'pre':\n",
    "            x[idx, -len(trunc):] = trunc\n",
    "        else:\n",
    "            raise ValueError('Padding type \"%s\" not understood' % padding)\n",
    "    return x\n",
    "\n",
    "\n",
    "\n",
    "def encoding_and_padding(corp_list, dic, max_seq=50):\n",
    "    coding_seq = [ [dic.get(j, dic['_UNK_']) for j in i]  for i in corp_list ]\n",
    "    #In general, reviews are likely to include a lot of information at the end, so pre-padding is preceded.\n",
    "    return(pad_sequences(coding_seq, maxlen=max_seq, padding='pre', truncating='pre',value=dic['_PAD_']))\n",
    "\n",
    "\n",
    "train_x = encoding_and_padding(keywords, keyword_dict, max_seq=int(max_seq))\n",
    "train_y = tbl['label']\n",
    "train_x.shape, train_y.shape"
   ]
  },
  {
   "cell_type": "markdown",
   "metadata": {},
   "source": [
    "#### Define  DataLoader  "
   ]
  },
  {
   "cell_type": "code",
   "execution_count": 67,
   "metadata": {
    "ExecuteTime": {
     "end_time": "2017-12-17T14:13:27.403292Z",
     "start_time": "2017-12-17T14:13:27.182662Z"
    }
   },
   "outputs": [
    {
     "data": {
      "text/plain": [
       "(pandas.core.series.Series, numpy.ndarray)"
      ]
     },
     "execution_count": 67,
     "metadata": {},
     "output_type": "execute_result"
    }
   ],
   "source": [
    "# split train, test \n",
    "tr_idx = np.random.choice(train_x.shape[0], int(train_x.shape[0] * 0.9) )\n",
    "tr_idx_set = set(tr_idx)\n",
    "te_idx = np.array([i for i in range(train_x.shape[0]) if i not in tr_idx_set])\n",
    "len(te_idx), len(tr_idx)\n",
    "\n",
    "tr_set = gluon.data.ArrayDataset(train_x[tr_idx], train_y[tr_idx].as_matrix())\n",
    "tr_data_iterator = gluon.data.DataLoader(tr_set, batch_size=100, shuffle=True)\n",
    "\n",
    "te_set =gluon.data.ArrayDataset(train_x[te_idx], train_y[te_idx].as_matrix())\n",
    "te_data_iterator = gluon.data.DataLoader(te_set, batch_size=100, shuffle=True)\n",
    "\n",
    "type(train_y), type(train_x)"
   ]
  },
  {
   "cell_type": "markdown",
   "metadata": {},
   "source": [
    "#### making model "
   ]
  },
  {
   "cell_type": "code",
   "execution_count": 62,
   "metadata": {
    "ExecuteTime": {
     "end_time": "2017-12-17T14:09:31.710226Z",
     "start_time": "2017-12-17T14:09:31.671146Z"
    }
   },
   "outputs": [],
   "source": [
    "class SentClassificationModel(gluon.Block):\n",
    "\n",
    "    def __init__(self, vocab_size, num_embed, **kwargs):\n",
    "        super(SentClassificationModel, self).__init__(**kwargs)\n",
    "        with self.name_scope():\n",
    "            self.embed = nn.Embedding(input_dim=vocab_size, output_dim=num_embed,\n",
    "                                        weight_initializer = mx.init.Xavier())\n",
    "            #if you use Conv2D instead of Conv1D will gain more training performance with cudnn.\n",
    "            self.conv1 = nn.Conv1D(channels=32, kernel_size=1, padding=1)\n",
    "            self.conv2 = nn.Conv1D(channels=16, kernel_size=2, padding=1)\n",
    "            self.conv3 = nn.Conv1D(channels=8, kernel_size=3, padding=2)\n",
    "            \n",
    "            self.pool1 = nn.AvgPool1D()\n",
    "            self.pool2 = nn.AvgPool1D()\n",
    "            self.pool3 = nn.AvgPool1D()\n",
    "\n",
    "            self.lstm = rnn.GRU(layout='NTC', hidden_size=10, dropout=0.2, bidirectional=True)\n",
    "            self.dense = nn.Dense(units=2)\n",
    "            \n",
    "            self.conv1_act = None\n",
    "            \n",
    "    def forward(self, inputs, get_act=False):\n",
    "        em_out = self.embed(inputs)\n",
    "        em_swaped = mx.nd.swapaxes(em_out, 1,2)\n",
    "        conv1_ = self.conv1(em_swaped)\n",
    "        if get_act:\n",
    "            self.conv1_act = conv1_\n",
    "            \n",
    "        conv1_out = self.pool1(conv1_)\n",
    "        conv2_ =self.conv2(em_swaped)\n",
    "        conv2_out = self.pool2(conv2_)\n",
    "        conv3_ =self.conv3(em_swaped)\n",
    "        conv3_out = self.pool3(conv3_)\n",
    "        cated_layer = mx.nd.concat(conv1_out, conv2_out, conv3_out , dim=1)\n",
    "        cated_layer = mx.nd.swapaxes(cated_layer, 1,2)\n",
    "        bigru_out  = self.lstm(cated_layer)\n",
    "        outs = self.dense(bigru_out)\n",
    "        return outs"
   ]
  },
  {
   "cell_type": "code",
   "execution_count": 68,
   "metadata": {
    "ExecuteTime": {
     "end_time": "2017-12-17T14:13:30.091718Z",
     "start_time": "2017-12-17T14:13:30.079523Z"
    }
   },
   "outputs": [],
   "source": [
    "ctx = mx.gpu()\n",
    "\n",
    "model = SentClassificationModel(vocab_size = len(keyword_dict), num_embed=50)\n",
    "model.collect_params().initialize(mx.init.Xavier(), ctx=ctx)\n",
    "trainer = gluon.Trainer(model.collect_params(), 'sgd', optimizer_params={'learning_rate':0.01, 'wd':0.00001 })\n",
    "loss = gluon.loss.SoftmaxCrossEntropyLoss(sparse_label=False)"
   ]
  },
  {
   "cell_type": "code",
   "execution_count": 69,
   "metadata": {
    "ExecuteTime": {
     "end_time": "2017-12-17T14:13:35.065418Z",
     "start_time": "2017-12-17T14:13:35.058967Z"
    }
   },
   "outputs": [
    {
     "name": "stdout",
     "output_type": "stream",
     "text": [
      "SentClassificationModel(\n",
      "  (embed): Embedding(5002 -> 50, float32)\n",
      "  (conv1): Conv1D(None -> 32, kernel_size=(1,), stride=(1,), padding=(1,))\n",
      "  (conv2): Conv1D(None -> 16, kernel_size=(2,), stride=(1,), padding=(1,))\n",
      "  (conv3): Conv1D(None -> 8, kernel_size=(3,), stride=(1,), padding=(2,))\n",
      "  (pool1): AvgPool1D(size=(2,), stride=(2,), padding=(0,), ceil_mode=False)\n",
      "  (pool2): AvgPool1D(size=(2,), stride=(2,), padding=(0,), ceil_mode=False)\n",
      "  (pool3): AvgPool1D(size=(2,), stride=(2,), padding=(0,), ceil_mode=False)\n",
      "  (lstm): GRU(None -> 30, NTC, dropout=0.2, bidirectional)\n",
      "  (dense): Dense(None -> 2, linear)\n",
      ")\n"
     ]
    }
   ],
   "source": [
    "print(model)"
   ]
  },
  {
   "cell_type": "markdown",
   "metadata": {},
   "source": [
    "#### Training "
   ]
  },
  {
   "cell_type": "code",
   "execution_count": 70,
   "metadata": {
    "ExecuteTime": {
     "end_time": "2017-12-17T14:13:36.757680Z",
     "start_time": "2017-12-17T14:13:36.748957Z"
    }
   },
   "outputs": [],
   "source": [
    "def calculate_loss(model, data_iter, loss_obj, ctx=ctx):\n",
    "    test_loss = []\n",
    "    for i, (te_data, te_label) in enumerate(data_iter):\n",
    "        te_data = te_data.as_in_context(ctx)\n",
    "        te_label = te_label.as_in_context(ctx)\n",
    "        with autograd.predict_mode():\n",
    "            te_output = model(te_data)\n",
    "            loss_te = loss_obj(te_output, mx.nd.one_hot(te_label, 2))\n",
    "        curr_loss = mx.nd.mean(loss_te).asscalar()\n",
    "        test_loss.append(curr_loss)\n",
    "    return(np.mean(test_loss))"
   ]
  },
  {
   "cell_type": "code",
   "execution_count": 71,
   "metadata": {
    "ExecuteTime": {
     "end_time": "2017-12-17T14:24:23.713255Z",
     "start_time": "2017-12-17T14:13:37.747408Z"
    }
   },
   "outputs": [
    {
     "name": "stdout",
     "output_type": "stream",
     "text": [
      "Epoch 0. Train Loss: 0.692374, Test Loss : 0.691237\n",
      "Epoch 1. Train Loss: 0.689511, Test Loss : 0.687366\n",
      "Epoch 2. Train Loss: 0.68269, Test Loss : 0.675595\n",
      "Epoch 3. Train Loss: 0.656666, Test Loss : 0.627344\n",
      "Epoch 4. Train Loss: 0.580514, Test Loss : 0.534484\n",
      "Epoch 5. Train Loss: 0.508616, Test Loss : 0.478485\n",
      "Epoch 6. Train Loss: 0.470979, Test Loss : 0.454552\n",
      "Epoch 7. Train Loss: 0.453337, Test Loss : 0.472394\n",
      "Epoch 8. Train Loss: 0.440267, Test Loss : 0.438719\n",
      "Epoch 9. Train Loss: 0.427989, Test Loss : 0.424351\n",
      "Epoch 10. Train Loss: 0.42147, Test Loss : 0.480444\n",
      "Epoch 11. Train Loss: 0.41492, Test Loss : 0.42176\n",
      "Epoch 12. Train Loss: 0.410147, Test Loss : 0.410926\n",
      "Epoch 13. Train Loss: 0.40522, Test Loss : 0.426308\n",
      "Epoch 14. Train Loss: 0.40278, Test Loss : 0.438703\n"
     ]
    }
   ],
   "source": [
    "epochs = 15\n",
    "\n",
    "\n",
    "tot_test_loss = []\n",
    "tot_train_loss = []\n",
    "for e in range(epochs):\n",
    "    train_loss = []\n",
    "    #batch training \n",
    "    for i, (data, label) in enumerate(tr_data_iterator):\n",
    "        data = data.as_in_context(ctx)\n",
    "        label = label.as_in_context(ctx)\n",
    "        with autograd.record(train_mode=False):\n",
    "            output = model(data)\n",
    "            loss_ = loss(output, mx.nd.one_hot(label, 2))\n",
    "            loss_.backward()\n",
    "        trainer.step(data.shape[0])\n",
    "        curr_loss = mx.nd.mean(loss_).asscalar()\n",
    "        train_loss.append(curr_loss)\n",
    "\n",
    "    #caculate test loss\n",
    "    test_loss = calculate_loss(model, te_data_iterator, loss_obj = loss, ctx=ctx) \n",
    "\n",
    "    print(\"Epoch %s. Train Loss: %s, Test Loss : %s\" % (e, np.mean(train_loss), test_loss))    \n",
    "    tot_test_loss.append(test_loss)\n",
    "    tot_train_loss.append(np.mean(train_loss))"
   ]
  },
  {
   "cell_type": "code",
   "execution_count": 22,
   "metadata": {
    "ExecuteTime": {
     "end_time": "2017-12-17T13:47:42.880560Z",
     "start_time": "2017-12-17T13:47:42.816363Z"
    }
   },
   "outputs": [
    {
     "data": {
      "image/png": "[encoded data removed]",
      "text/plain": [
       "<matplotlib.figure.Figure at 0x7f3f17e8d400>"
      ]
     },
     "metadata": {},
     "output_type": "display_data"
    }
   ],
   "source": [
    "plt.plot(tot_train_loss)\n",
    "plt.plot(tot_test_loss)\n",
    "plt.title('model loss')\n",
    "plt.ylabel('loss')\n",
    "plt.xlabel('epoch')\n",
    "plt.legend(['train', 'valid'], loc='upper left')\n",
    "plt.show()"
   ]
  },
  {
   "cell_type": "markdown",
   "metadata": {
    "ExecuteTime": {
     "end_time": "2017-12-13T02:14:49.428735Z",
     "start_time": "2017-12-13T02:14:49.425894Z"
    }
   },
   "source": [
    "#### Define GRAD CAM function"
   ]
  },
  {
   "cell_type": "code",
   "execution_count": 84,
   "metadata": {
    "ExecuteTime": {
     "end_time": "2017-12-17T14:48:26.391218Z",
     "start_time": "2017-12-17T14:48:26.379413Z"
    }
   },
   "outputs": [],
   "source": [
    "def grad_cam_conv1D(model, x, loss, ctx):\n",
    "    with autograd.record():\n",
    "        output = model.forward(mx.nd.array([x,],ctx=ctx),get_act=True)\n",
    "        loss_ = loss(output, mx.nd.array([[0.0,1.0],],ctx=ctx))\n",
    "        output = mx.nd.SoftmaxActivation(output)\n",
    "        print(output)\n",
    "        loss_.backward()\n",
    "    acts = model.conv1_act\n",
    "    pooled_grad = mx.nd.mean(model.conv1.weight.grad(), axis=(1,2))\n",
    "    for i in range(acts.shape[1]):\n",
    "        acts[:,i,:] *= pooled_grad[i]\n",
    "    heat = mx.nd.mean(acts, axis=1)\n",
    "    return(heat.asnumpy()[0][1:-1], loss_)\n"
   ]
  },
  {
   "cell_type": "code",
   "execution_count": 51,
   "metadata": {
    "ExecuteTime": {
     "end_time": "2017-12-17T14:07:14.913374Z",
     "start_time": "2017-12-17T14:07:11.959765Z"
    }
   },
   "outputs": [],
   "source": [
    "#making test set \n",
    "tbl_test = pd.read_csv(\"ratings_test.txt\",sep='\\t')\n",
    "parsed_text = [mecab.morphs(str(i).strip()) for i in tbl_test['document']]\n",
    "test_x = encoding_and_padding(parsed_text, keyword_dict, max_seq=int(max_seq))\n",
    "test_y = tbl_test['label']\n"
   ]
  },
  {
   "cell_type": "code",
   "execution_count": 26,
   "metadata": {
    "ExecuteTime": {
     "end_time": "2017-12-17T13:48:27.371627Z",
     "start_time": "2017-12-17T13:48:24.236289Z"
    }
   },
   "outputs": [],
   "source": [
    "prob = model(mx.nd.array(test_x, ctx=ctx))"
   ]
  },
  {
   "cell_type": "code",
   "execution_count": 27,
   "metadata": {
    "ExecuteTime": {
     "end_time": "2017-12-17T13:48:28.092133Z",
     "start_time": "2017-12-17T13:48:28.086656Z"
    }
   },
   "outputs": [],
   "source": [
    "prob_np = mx.nd.SoftmaxActivation(prob).asnumpy()"
   ]
  },
  {
   "cell_type": "code",
   "execution_count": 28,
   "metadata": {
    "ExecuteTime": {
     "end_time": "2017-12-17T13:48:29.470860Z",
     "start_time": "2017-12-17T13:48:29.465916Z"
    }
   },
   "outputs": [],
   "source": [
    "prob_np_a = prob_np[:,1]"
   ]
  },
  {
   "cell_type": "code",
   "execution_count": 29,
   "metadata": {
    "ExecuteTime": {
     "end_time": "2017-12-17T13:48:30.984633Z",
     "start_time": "2017-12-17T13:48:30.535160Z"
    }
   },
   "outputs": [],
   "source": [
    "%reload_ext rpy2.ipython"
   ]
  },
  {
   "cell_type": "code",
   "execution_count": 31,
   "metadata": {
    "ExecuteTime": {
     "end_time": "2017-12-17T13:48:46.371917Z",
     "start_time": "2017-12-17T13:48:40.144840Z"
    }
   },
   "outputs": [
    {
     "data": {
      "image/png": "[encoded data removed]"
     },
     "metadata": {},
     "output_type": "display_data"
    }
   ],
   "source": [
    "%%R -i test_y -i prob_np_a\n",
    "#roc tells it's quite good performance\n",
    "require(pROC)\n",
    "plot(roc(test_y, prob_np_a), print.auc=TRUE)"
   ]
  },
  {
   "cell_type": "code",
   "execution_count": 108,
   "metadata": {
    "ExecuteTime": {
     "end_time": "2017-12-17T15:02:16.791254Z",
     "start_time": "2017-12-17T15:02:16.786278Z"
    }
   },
   "outputs": [],
   "source": [
    "idx = 100"
   ]
  },
  {
   "cell_type": "code",
   "execution_count": 113,
   "metadata": {
    "ExecuteTime": {
     "end_time": "2017-12-17T15:11:44.720636Z",
     "start_time": "2017-12-17T15:11:44.715064Z"
    }
   },
   "outputs": [
    {
     "data": {
      "text/plain": [
       "(array([ 0.92511469,  0.07488529], dtype=float32),\n",
       " id                      1449086\n",
       " document    걸작은 몇안되고 졸작들만 넘쳐난다.\n",
       " label                         0\n",
       " Name: 100, dtype: object,\n",
       " 0)"
      ]
     },
     "execution_count": 113,
     "metadata": {},
     "output_type": "execute_result"
    }
   ],
   "source": [
    "# below revew means \"Only a few masterpieces are full of rubbish.\" with negative feedback.\n",
    "prob_np[idx], tbl_test.iloc[idx], test_y[idx]"
   ]
  },
  {
   "cell_type": "code",
   "execution_count": 110,
   "metadata": {
    "ExecuteTime": {
     "end_time": "2017-12-17T15:02:19.521690Z",
     "start_time": "2017-12-17T15:02:19.496724Z"
    }
   },
   "outputs": [
    {
     "name": "stdout",
     "output_type": "stream",
     "text": [
      "\n",
      "[[ 0.86101919  0.13898079]]\n",
      "<NDArray 1x2 @gpu(0)>\n"
     ]
    }
   ],
   "source": [
    "heat, loss__ = grad_cam_conv1D(model, test_x[idx], loss=loss, ctx=ctx)"
   ]
  },
  {
   "cell_type": "code",
   "execution_count": 111,
   "metadata": {
    "ExecuteTime": {
     "end_time": "2017-12-17T15:02:20.721094Z",
     "start_time": "2017-12-17T15:02:20.716215Z"
    }
   },
   "outputs": [],
   "source": [
    "hm_tbl = pd.DataFrame({'heat':heat, 'kw':[keyword_rev_dict[i] for i in test_x[idx] ]})"
   ]
  },
  {
   "cell_type": "code",
   "execution_count": 112,
   "metadata": {
    "ExecuteTime": {
     "end_time": "2017-12-17T15:02:21.478722Z",
     "start_time": "2017-12-17T15:02:21.411570Z"
    }
   },
   "outputs": [
    {
     "data": {
      "image/png": "[encoded data removed]"
     },
     "metadata": {},
     "output_type": "display_data"
    }
   ],
   "source": [
    "%%R -i hm_tbl\n",
    "library(ggplot2)\n",
    "library(extrafont)\n",
    "\n",
    "ggplot(hm_tbl, aes(x=kw, y=heat)) + geom_bar(stat='identity') + theme_bw(base_family = 'UnDotum') "
   ]
  },
  {
   "cell_type": "markdown",
   "metadata": {},
   "source": [
    "Considering affirmation, the word \"masterpiece(걸작)\" contributed to the positive evaluation, and the word \"rubbish(졸작)\" contributed the opposite."
   ]
  }
 ],
 "metadata": {
  "kernelspec": {
   "display_name": "Python 3",
   "language": "python",
   "name": "python3"
  },
  "language_info": {
   "codemirror_mode": {
    "name": "ipython",
    "version": 3
   },
   "file_extension": ".py",
   "mimetype": "text/x-python",
   "name": "python",
   "nbconvert_exporter": "python",
   "pygments_lexer": "ipython3",
   "version": "3.6.5"
  },
  "toc": {
   "nav_menu": {},
   "number_sections": true,
   "sideBar": true,
   "skip_h1_title": false,
   "toc_cell": false,
   "toc_position": {},
   "toc_section_display": "block",
   "toc_window_display": false
  }
 },
 "nbformat": 4,
 "nbformat_minor": 2
}
