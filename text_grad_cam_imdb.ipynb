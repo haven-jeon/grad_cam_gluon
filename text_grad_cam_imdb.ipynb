{
 "cells": [
  {
   "cell_type": "code",
   "execution_count": 1,
   "metadata": {},
   "outputs": [
    {
     "name": "stderr",
     "output_type": "stream",
     "text": [
      "/opt/venv/lib/python3.6/site-packages/h5py/__init__.py:36: FutureWarning: Conversion of the second argument of issubdtype from `float` to `np.floating` is deprecated. In future, it will be treated as `np.float64 == np.dtype(float).type`.\n",
      "  from ._conv import register_converters as _register_converters\n"
     ]
    }
   ],
   "source": [
    "import mxnet as mx\n",
    "from mxnet import gluon, nd\n",
    "import gluonnlp as gnlp\n",
    "from mxnet import gluon, autograd\n",
    "from mxnet.gluon import nn, rnn\n",
    "from tqdm import tqdm\n",
    "import numpy as np\n",
    "import pandas as pd\n",
    "import re"
   ]
  },
  {
   "cell_type": "code",
   "execution_count": 2,
   "metadata": {},
   "outputs": [],
   "source": [
    "train_dataset_raw, test_dataset_raw = [gnlp.data.IMDB(root='data/imdb', segment=segment)\n",
    "                               for segment in ('train', 'test')]"
   ]
  },
  {
   "cell_type": "code",
   "execution_count": 3,
   "metadata": {},
   "outputs": [],
   "source": [
    "import time\n",
    "import multiprocessing as mp\n",
    "length_clip = gnlp.data.ClipSequence(500)"
   ]
  },
  {
   "cell_type": "code",
   "execution_count": 4,
   "metadata": {},
   "outputs": [
    {
     "name": "stderr",
     "output_type": "stream",
     "text": [
      "/opt/venv/lib/python3.6/site-packages/msgpack_numpy.py:84: DeprecationWarning: The binary mode of fromstring is deprecated, as it behaves surprisingly on unicode inputs. Use frombuffer instead\n",
      "  dtype=np.dtype(descr)).reshape(obj[b'shape'])\n",
      "/opt/venv/lib/python3.6/site-packages/msgpack_numpy.py:88: DeprecationWarning: The binary mode of fromstring is deprecated, as it behaves surprisingly on unicode inputs. Use frombuffer instead\n",
      "  dtype=np.dtype(descr))[0]\n"
     ]
    },
    {
     "name": "stdout",
     "output_type": "stream",
     "text": [
      "Done! Tokenizing Time=1227.40s, #Sentences=25000\n",
      "Done! Tokenizing Time=1220.25s, #Sentences=25000\n"
     ]
    }
   ],
   "source": [
    "# from : https://gluon-nlp.mxnet.io/api/notes/data_api.html\n",
    "\n",
    "# Dataset preprocessing\n",
    "import spacy\n",
    "\n",
    "nlp = spacy.load(\"en\")\n",
    "\n",
    "\n",
    "def preprocess(x):\n",
    "    data, label = x\n",
    "    # In the labeled train/test sets, a negative review has a score <= 4\n",
    "    # out of 10, and a positive review has a score >= 7 out of 10. Thus\n",
    "    # reviews with more neutral ratings are not included in the train/test\n",
    "    # sets. We labeled a negative review whose score <= 4 as 0, and a\n",
    "    # positive review whose score >= 7 as 1. As the neural ratings are not\n",
    "    # included in the datasets, we can simply use 5 as our threshold.\n",
    "    label = int(label > 5)\n",
    "    data = nlp(data)\n",
    "    data = length_clip([token.lemma_ for token in data if not token.is_stop])\n",
    "    return data, label, x\n",
    "\n",
    "\n",
    "def preprocess_dataset(dataset):\n",
    "    start = time.time()\n",
    "    pool = mp.Pool()\n",
    "    dataset = gluon.data.SimpleDataset(pool.map(preprocess, dataset))\n",
    "    end = time.time()\n",
    "    print('Done! Tokenizing Time={:.2f}s, #Sentences={}'.format(end - start, len(dataset)))\n",
    "    return dataset\n",
    "\n",
    "# Preprocess the dataset\n",
    "train_dataset_tkn = preprocess_dataset(train_dataset_raw)\n",
    "test_dataset_tkn = preprocess_dataset(test_dataset_raw)\n"
   ]
  },
  {
   "cell_type": "code",
   "execution_count": 5,
   "metadata": {},
   "outputs": [],
   "source": [
    "#import pickle \n",
    "\n",
    "#pickle.dump([train_dataset_tkn, test_dataset_tkn], open('nouns.pkl', 'wb'))"
   ]
  },
  {
   "cell_type": "code",
   "execution_count": 163,
   "metadata": {},
   "outputs": [],
   "source": [
    "#import pickle \n",
    "\n",
    "#with open('nouns.pkl','rb') as f:\n",
    "#     train_dataset_tkn, test_dataset_tkn = pickle.load(f)\n"
   ]
  },
  {
   "cell_type": "code",
   "execution_count": 104,
   "metadata": {},
   "outputs": [],
   "source": [
    "#import pickle \n",
    "#pickle.dump([train_dataset, test_dataset], open(\"nouns.pkl\", 'wb'))"
   ]
  },
  {
   "cell_type": "code",
   "execution_count": 6,
   "metadata": {},
   "outputs": [
    {
     "name": "stdout",
     "output_type": "stream",
     "text": [
      "Vocab(size=10004, unk=\"<unk>\", reserved=\"['<pad>', '<bos>', '<eos>']\")\n"
     ]
    }
   ],
   "source": [
    "import itertools\n",
    "train_seqs = [sample[0] for sample in train_dataset_tkn]\n",
    "counter = gnlp.data.count_tokens(list(itertools.chain.from_iterable(train_seqs)))\n",
    "vocab = gnlp.Vocab(counter, max_size=10000)\n",
    "print(vocab)\n",
    "\n"
   ]
  },
  {
   "cell_type": "code",
   "execution_count": 7,
   "metadata": {},
   "outputs": [
    {
     "name": "stdout",
     "output_type": "stream",
     "text": [
      "[0, 161, 672, 106, 5, 6, 145, 22, 1400, 269, 51, 4, 7, 1221, 7, 5, 6, 4127, 60, 6297, 4942, 140, 129, 0, 161, 17, 1669, 296, 476, 7, 1221, 7, 5, 13, 0, 1002, 9063, 4, 5161, 663, 113, 1054, 1221, 21, 0, 4, 0, 442, 4, 600]\n"
     ]
    }
   ],
   "source": [
    "def token_to_idx(x):\n",
    "    return vocab[x[0]], x[1]\n",
    "\n",
    "pool = mp.Pool()\n",
    "train_dataset = pool.map(token_to_idx, train_dataset_tkn)\n",
    "test_dataset = pool.map(token_to_idx, test_dataset_tkn)\n",
    "pool.close()\n",
    "print(train_dataset[0][0][:50])\n"
   ]
  },
  {
   "cell_type": "code",
   "execution_count": 9,
   "metadata": {},
   "outputs": [],
   "source": [
    "batchify_fn = gnlp.data.batchify.Tuple(gnlp.data.batchify.Pad(axis=0),\n",
    "                                      gnlp.data.batchify.Stack(), gnlp.data.batchify.Stack())"
   ]
  },
  {
   "cell_type": "code",
   "execution_count": 10,
   "metadata": {},
   "outputs": [],
   "source": [
    "train_dataset_new = []\n",
    "for i, (x, y) in enumerate(train_dataset):\n",
    "    train_dataset_new.append([x,y,i])\n",
    "    \n",
    "test_dataset_new = []\n",
    "for i, (x, y) in enumerate(test_dataset):\n",
    "    test_dataset_new.append([x,y,i])\n",
    "    "
   ]
  },
  {
   "cell_type": "code",
   "execution_count": 11,
   "metadata": {},
   "outputs": [],
   "source": [
    "train_dataloader = gluon.data.DataLoader(dataset=train_dataset_new,\n",
    "                                         shuffle=True,\n",
    "                                         batchify_fn=batchify_fn, batch_size=100)\n",
    "test_dataloader = gluon.data.DataLoader(dataset=test_dataset_new,\n",
    "                                        shuffle=True,\n",
    "                                        batchify_fn=batchify_fn, batch_size=100)\n"
   ]
  },
  {
   "cell_type": "code",
   "execution_count": 12,
   "metadata": {},
   "outputs": [],
   "source": [
    "fasttext_en = gnlp.embedding.create('fasttext', source='wiki.en')\n",
    "\n",
    "vocab.set_embedding(fasttext_en)"
   ]
  },
  {
   "cell_type": "code",
   "execution_count": 13,
   "metadata": {},
   "outputs": [],
   "source": [
    "in_vocab_size, out_vocab_size = vocab.embedding.idx_to_vec.shape"
   ]
  },
  {
   "cell_type": "code",
   "execution_count": 14,
   "metadata": {},
   "outputs": [],
   "source": [
    "class SentClassificationModel(gluon.Block):\n",
    "    def __init__(self, in_vocab_size, out_vocab_size, **kwargs):\n",
    "        super(SentClassificationModel, self).__init__(**kwargs)\n",
    "        with self.name_scope():\n",
    "            self.embed = nn.Embedding(input_dim=in_vocab_size, output_dim=out_vocab_size)\n",
    "            self.conv1 = nn.Conv1D(32, 1, padding=0)\n",
    "            self.conv2 = nn.Conv1D(16, 2, padding=1)\n",
    "            self.conv3 = nn.Conv1D(8,  3, padding=1)\n",
    "            self.pool1 = nn.GlobalAvgPool1D()\n",
    "            self.pool2 = nn.GlobalAvgPool1D()\n",
    "            self.pool3 = nn.GlobalAvgPool1D()\n",
    "            self.dense = nn.Dense(2)\n",
    "    def forward(self, inputs):\n",
    "        em_out = self.embed(inputs)\n",
    "        em_swaped = nd.swapaxes(em_out, 1,2)\n",
    "        self.conv1_act = self.conv1(em_swaped)            \n",
    "        conv1_out = self.pool1(self.conv1_act)\n",
    "        conv2_ =self.conv2(em_swaped)\n",
    "        conv2_out = self.pool2(conv2_)\n",
    "        conv3_ =self.conv3(em_swaped)\n",
    "        conv3_out = self.pool3(conv3_)\n",
    "        cated_layer = nd.concat(conv1_out, conv2_out, conv3_out , dim=1)\n",
    "        outs = self.dense(cated_layer)\n",
    "        return outs"
   ]
  },
  {
   "cell_type": "code",
   "execution_count": 15,
   "metadata": {},
   "outputs": [],
   "source": [
    "ctx = mx.gpu()\n",
    "\n",
    "model = SentClassificationModel(in_vocab_size, out_vocab_size)\n",
    "model.initialize(mx.init.Xavier(), ctx=ctx)\n",
    "model.embed.weight.set_data(vocab.embedding.idx_to_vec.as_in_context(ctx))\n",
    "trainer = gluon.Trainer(model.collect_params(),'adam')\n",
    "loss = gluon.loss.SoftmaxCrossEntropyLoss()"
   ]
  },
  {
   "cell_type": "code",
   "execution_count": 16,
   "metadata": {},
   "outputs": [
    {
     "data": {
      "text/plain": [
       "\n",
       "[[0. 0.]]\n",
       "<NDArray 1x2 @gpu(0)>"
      ]
     },
     "execution_count": 16,
     "metadata": {},
     "output_type": "execute_result"
    }
   ],
   "source": [
    "model(nd.random.normal(0,1, (1, 500), ctx=ctx))"
   ]
  },
  {
   "cell_type": "code",
   "execution_count": 17,
   "metadata": {},
   "outputs": [],
   "source": [
    "def evaluate(net, data_iter, ctx):\n",
    "    acc = mx.metric.Accuracy()\n",
    "    for i, (data_x, data_y, _) in enumerate(data_iter):\n",
    "        data_x = data_x.as_in_context(ctx)\n",
    "        with autograd.predict_mode():\n",
    "            output = net(data_x)\n",
    "        acc.update(data_y, output)\n",
    "    return acc.get()[1]"
   ]
  },
  {
   "cell_type": "code",
   "execution_count": 18,
   "metadata": {},
   "outputs": [],
   "source": [
    "def calculate_loss(model, data_iter, loss_obj, ctx=ctx):\n",
    "    test_loss = []\n",
    "    for i, (te_data, te_label, _) in enumerate(data_iter):\n",
    "        te_data = te_data.as_in_context(ctx)\n",
    "        te_label = te_label.as_in_context(ctx)\n",
    "        with autograd.predict_mode():\n",
    "            te_output = model(te_data)\n",
    "            loss_te = loss_obj(te_output, te_label)\n",
    "        curr_loss = nd.mean(loss_te).asscalar()\n",
    "        test_loss.append(curr_loss)\n",
    "    return(np.mean(test_loss))"
   ]
  },
  {
   "cell_type": "code",
   "execution_count": 19,
   "metadata": {},
   "outputs": [
    {
     "name": "stderr",
     "output_type": "stream",
     "text": [
      "100%|██████████| 250/250 [00:14<00:00, 16.68it/s]\n",
      "  1%|          | 2/250 [00:00<00:13, 18.65it/s]"
     ]
    },
    {
     "name": "stdout",
     "output_type": "stream",
     "text": [
      "Epoch 0. Train Loss: 0.47923386, Train Accuracy : 0.89916, Test Accuracy : 0.86816\n"
     ]
    },
    {
     "name": "stderr",
     "output_type": "stream",
     "text": [
      "100%|██████████| 250/250 [00:14<00:00, 17.07it/s]\n"
     ]
    },
    {
     "name": "stdout",
     "output_type": "stream",
     "text": [
      "Epoch 1. Train Loss: 0.2565163, Train Accuracy : 0.91988, Test Accuracy : 0.86876\n"
     ]
    }
   ],
   "source": [
    "epochs = 2\n",
    "\n",
    "tot_train_loss = []\n",
    "for e in range(epochs):\n",
    "    train_loss = []\n",
    "    for i, (data, label, _) in enumerate(tqdm(train_dataloader)):\n",
    "        data = data.as_in_context(ctx)\n",
    "        label = label.as_in_context(ctx)\n",
    "        with autograd.record(train_mode=True):\n",
    "            output = model(data)\n",
    "            loss_ = loss(output, label)\n",
    "            loss_.backward()\n",
    "        trainer.step(data.shape[0])\n",
    "        curr_loss = nd.mean(loss_).asscalar()\n",
    "        train_loss.append(curr_loss)\n",
    "    train_acc = evaluate(model, train_dataloader, ctx)\n",
    "    test_acc  = evaluate(model, test_dataloader, ctx)\n",
    "    print(\"Epoch %s. Train Loss: %s, Train Accuracy : %s, Test Accuracy : %s\" % \n",
    "          (e, np.mean(train_loss), train_acc, test_acc))    \n",
    "    tot_train_loss.append(np.mean(train_loss))"
   ]
  },
  {
   "cell_type": "code",
   "execution_count": 20,
   "metadata": {},
   "outputs": [],
   "source": [
    "def grad_cam_conv1D(model, x, y, loss, ctx):\n",
    "    with autograd.record():\n",
    "        output = model(nd.array([x,],ctx=ctx))\n",
    "        loss_ = loss(output, nd.array([y,],ctx=ctx))\n",
    "        output = nd.SoftmaxActivation(output)\n",
    "        print(output)\n",
    "        loss_.backward()\n",
    "    acts = model.conv1_act\n",
    "    #a_k^c\n",
    "    global_avg_grad = nd.mean(model.conv1.weight.grad(), axis=(1,2))\n",
    "    #L_{Grad-CAM}^c\n",
    "    for i in range(acts.shape[1]):\n",
    "        acts[:,i,:] *= global_avg_grad[i]\n",
    "    heat = nd.relu(nd.sum(acts, axis=1))\n",
    "    return(heat.asnumpy()[0], loss_)\n"
   ]
  },
  {
   "cell_type": "code",
   "execution_count": 21,
   "metadata": {},
   "outputs": [],
   "source": [
    "preds = []\n",
    "labels = []\n",
    "raw_idx = []\n",
    "for data, label, i in test_dataloader:\n",
    "    pred = nd.SoftmaxActivation(model(data.as_in_context(ctx)))\n",
    "    preds.append(pred)\n",
    "    labels.append(label)\n",
    "    raw_idx.append(i)\n",
    "\n",
    "res = nd.concat(*preds, dim=0)\n",
    "reslab = nd.concat(*labels, dim=0)"
   ]
  },
  {
   "cell_type": "code",
   "execution_count": 22,
   "metadata": {},
   "outputs": [],
   "source": [
    "prob_np = res.asnumpy()"
   ]
  },
  {
   "cell_type": "code",
   "execution_count": 23,
   "metadata": {},
   "outputs": [],
   "source": [
    "prob_np_a = prob_np[:,1]\n",
    "test_y = reslab.asnumpy()"
   ]
  },
  {
   "cell_type": "code",
   "execution_count": 24,
   "metadata": {},
   "outputs": [],
   "source": [
    "%reload_ext rpy2.ipython"
   ]
  },
  {
   "cell_type": "code",
   "execution_count": 57,
   "metadata": {},
   "outputs": [
    {
     "data": {
      "image/png": "[encoded data removed]"
     },
     "metadata": {},
     "output_type": "display_data"
    }
   ],
   "source": [
    "%%R -i test_y -i prob_np_a\n",
    "\n",
    "library(pROC)\n",
    "plot(roc(test_y, prob_np_a), print.auc=TRUE)"
   ]
  },
  {
   "cell_type": "code",
   "execution_count": 47,
   "metadata": {},
   "outputs": [],
   "source": [
    "for data, label, i in test_dataloader:\n",
    "    data_x = data\n",
    "    pred = nd.SoftmaxActivation(model(data_x.as_in_context(ctx)))\n",
    "    labels = label\n",
    "    idx_list = i\n",
    "    break\n"
   ]
  },
  {
   "cell_type": "code",
   "execution_count": 54,
   "metadata": {},
   "outputs": [
    {
     "data": {
      "text/plain": [
       "19447.0"
      ]
     },
     "execution_count": 54,
     "metadata": {},
     "output_type": "execute_result"
    }
   ],
   "source": [
    "idx_list[idx].asnumpy()[0]"
   ]
  },
  {
   "cell_type": "code",
   "execution_count": 55,
   "metadata": {},
   "outputs": [
    {
     "data": {
      "text/plain": [
       "(\n",
       " [0.74374497 0.25625506]\n",
       " <NDArray 2 @gpu(0)>, \n",
       " [  27    9 1186    5  352   97   28  125    5   13   54  520   28   37\n",
       "   326    5    6  268   14  180    0    4 4064  285 3579 1031   20    0\n",
       "     0    0    0    0    0    0    0    0    0    0    0    0    0    0\n",
       "     0    0    0    0    0    0    0    0    0    0    0    0    0    0\n",
       "     0    0    0    0    0    0    0    0    0    0    0    0    0    0\n",
       "     0    0    0    0    0    0    0    0    0    0    0    0    0    0\n",
       "     0    0    0    0    0    0    0    0    0    0    0    0    0    0\n",
       "     0    0    0    0    0    0    0    0    0    0    0    0    0    0\n",
       "     0    0    0    0    0    0    0    0    0    0    0    0    0    0\n",
       "     0    0    0    0    0    0    0    0    0    0    0    0    0    0\n",
       "     0    0    0    0    0    0    0    0    0    0    0    0    0    0\n",
       "     0    0    0    0    0    0    0    0    0    0    0    0    0    0\n",
       "     0    0    0    0    0    0    0    0    0    0    0    0    0    0\n",
       "     0    0    0    0    0    0    0    0    0    0    0    0    0    0\n",
       "     0    0    0    0    0    0    0    0    0    0    0    0    0    0\n",
       "     0    0    0    0    0    0    0    0    0    0    0    0    0    0\n",
       "     0    0    0    0    0    0    0    0    0    0    0    0    0    0\n",
       "     0    0    0    0    0    0    0    0    0    0    0    0    0    0\n",
       "     0    0    0    0    0    0    0    0    0    0    0    0    0    0\n",
       "     0    0    0    0    0    0    0    0    0    0    0    0    0    0\n",
       "     0    0    0    0    0    0    0    0    0    0    0    0    0    0\n",
       "     0    0    0    0    0    0    0    0    0    0    0    0    0    0\n",
       "     0    0    0    0    0    0    0    0    0    0    0    0    0    0\n",
       "     0    0    0    0    0    0    0    0    0    0    0    0    0    0\n",
       "     0    0    0    0    0    0    0    0    0    0    0    0    0    0\n",
       "     0    0    0    0    0    0    0    0    0    0    0    0    0    0\n",
       "     0    0    0    0    0    0    0    0    0    0    0    0    0    0\n",
       "     0    0    0    0    0    0    0    0    0    0    0    0    0    0\n",
       "     0    0    0    0    0    0    0    0    0    0    0    0    0    0\n",
       "     0    0    0    0    0    0    0    0    0    0    0    0    0    0\n",
       "     0    0    0    0    0    0    0    0    0    0    0    0    0    0\n",
       "     0    0    0    0    0    0    0    0    0    0    0    0    0    0\n",
       "     0    0    0    0    0    0    0    0    0    0    0    0    0    0\n",
       "     0    0    0    0    0    0    0    0    0    0    0    0    0    0\n",
       "     0    0    0    0    0    0    0    0    0    0    0    0    0    0\n",
       "     0    0    0    0    0    0    0    0    0    0]\n",
       " <NDArray 500 @cpu_shared(0)>, \n",
       " [0.]\n",
       " <NDArray 1 @cpu_shared(0)>, (['this',\n",
       "   'movie',\n",
       "   'disappointment',\n",
       "   '.',\n",
       "   'well',\n",
       "   'act',\n",
       "   'story',\n",
       "   'mean',\n",
       "   '.',\n",
       "   'the',\n",
       "   'plot',\n",
       "   'ridiculous',\n",
       "   'story',\n",
       "   'go',\n",
       "   'absolutely',\n",
       "   '.',\n",
       "   '-PRON-',\n",
       "   'truly',\n",
       "   'not',\n",
       "   'worth',\n",
       "   'nickel',\n",
       "   ',',\n",
       "   'buffalo',\n",
       "   '..',\n",
       "   'pun',\n",
       "   'intend',\n",
       "   '!'],\n",
       "  0,\n",
       "  [\"This movie was beyond disappointment. Well acted story that means nothing. The plot is ridiculous and even what story there is goes absolutely nowhere. It truly isn't worth a nickel, buffalo or otherwise..pun intended!\",\n",
       "   1]))"
      ]
     },
     "execution_count": 55,
     "metadata": {},
     "output_type": "execute_result"
    }
   ],
   "source": [
    "idx = 10\n",
    "pred[idx], data_x[idx], labels[idx], test_dataset_tkn[int(idx_list[idx].asnumpy()[0])]"
   ]
  },
  {
   "cell_type": "code",
   "execution_count": 37,
   "metadata": {},
   "outputs": [
    {
     "name": "stdout",
     "output_type": "stream",
     "text": [
      "\n",
      "[[0.86352944 0.1364706 ]]\n",
      "<NDArray 1x2 @gpu(0)>\n"
     ]
    }
   ],
   "source": [
    "heat, loss_val = grad_cam_conv1D(model, data_x[idx].asnumpy(), np.argmax(pred[idx].asnumpy()), loss=loss, ctx=ctx)"
   ]
  },
  {
   "cell_type": "code",
   "execution_count": 41,
   "metadata": {},
   "outputs": [],
   "source": [
    "hm_tbl = pd.DataFrame({'heat':heat, 'kw':[vocab.to_tokens(int(i)) for i in data_x[idx].asnumpy()]})"
   ]
  },
  {
   "cell_type": "code",
   "execution_count": 42,
   "metadata": {},
   "outputs": [],
   "source": [
    "hm_tbl.drop_duplicates(inplace=True)\n",
    "hm_tbl.sort_values(by='heat', inplace=True, ascending=False)"
   ]
  },
  {
   "cell_type": "code",
   "execution_count": 44,
   "metadata": {},
   "outputs": [],
   "source": [
    "hm_tbl_sm= hm_tbl[:20]"
   ]
  },
  {
   "cell_type": "code",
   "execution_count": 58,
   "metadata": {},
   "outputs": [
    {
     "data": {
      "image/png": "[encoded data removed]"
     },
     "metadata": {},
     "output_type": "display_data"
    }
   ],
   "source": [
    "%%R -i hm_tbl_sm -w 50 -h 30 -u cm\n",
    "library(ggplot2)\n",
    "ggplot(hm_tbl_sm, aes(x = reorder(kw, -heat), y=heat)) + geom_bar(stat='identity') + theme(text = element_text(size=20), axis.text.x = element_text(angle = 90, hjust = 1)) + xlab('token') + ylab('importance')"
   ]
  }
 ],
 "metadata": {
  "kernelspec": {
   "display_name": "Python 3",
   "language": "python",
   "name": "python3"
  },
  "language_info": {
   "codemirror_mode": {
    "name": "ipython",
    "version": 3
   },
   "file_extension": ".py",
   "mimetype": "text/x-python",
   "name": "python",
   "nbconvert_exporter": "python",
   "pygments_lexer": "ipython3",
   "version": "3.6.5"
  }
 },
 "nbformat": 4,
 "nbformat_minor": 2
}
